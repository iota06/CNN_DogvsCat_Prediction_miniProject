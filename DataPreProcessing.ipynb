{
 "cells": [
  {
   "cell_type": "code",
   "execution_count": 2,
   "metadata": {},
   "outputs": [],
   "source": [
    "#Importing Libraries\n",
    "import numpy as np\n",
    "import cv2\n",
    "import os\n",
    "import random\n",
    "import matplotlib.pyplot as plt\n",
    "import pickle"
   ]
  },
  {
   "cell_type": "code",
   "execution_count": 3,
   "metadata": {},
   "outputs": [],
   "source": [
    "#Importing Data\n",
    "directory=r'C:\\Study\\Machine Learning\\Mini Projects\\Image_classification_Cat&Dog_NN\\dogscats\\train'\n",
    "Categories=['cats','dogs']"
   ]
  },
  {
   "cell_type": "markdown",
   "metadata": {},
   "source": [
    "Data Pre Processing\n",
    "    1.Img size\n",
    "    2.assigning folder path\n",
    "    3.labels\n",
    "    4.converting to image list and resizing and assigning all to data"
   ]
  },
  {
   "cell_type": "code",
   "execution_count": 4,
   "metadata": {},
   "outputs": [],
   "source": [
    "img_size=100 #This plays an Imp role, less==less computation but bad accuracy due to pixel images\n",
    "data=[] \n",
    "for category in Categories:\n",
    "    folder=os.path.join(directory, category)\n",
    "    label=Categories.index(category)\n",
    "    for img in os.listdir(folder):\n",
    "        img_path=os.path.join(folder,img)\n",
    "        img_arr=cv2.imread(img_path)\n",
    "        img_arr=cv2.resize(img_arr,(img_size,img_size))\n",
    "        data.append([img_arr,label])\n"
   ]
  },
  {
   "cell_type": "code",
   "execution_count": 5,
   "metadata": {},
   "outputs": [
    {
     "data": {
      "text/plain": [
       "23000"
      ]
     },
     "execution_count": 5,
     "metadata": {},
     "output_type": "execute_result"
    }
   ],
   "source": [
    "len(data) #lenght of dataset"
   ]
  },
  {
   "cell_type": "code",
   "execution_count": 13,
   "metadata": {},
   "outputs": [
    {
     "data": {
      "text/plain": [
       "[array([[[135, 173, 203],\n",
       "         [136, 174, 204],\n",
       "         [136, 170, 200],\n",
       "         ...,\n",
       "         [ 93, 113, 160],\n",
       "         [ 97, 120, 168],\n",
       "         [100, 123, 175]],\n",
       " \n",
       "        [[135, 173, 203],\n",
       "         [135, 173, 203],\n",
       "         [136, 170, 200],\n",
       "         ...,\n",
       "         [ 89, 110, 155],\n",
       "         [102, 126, 172],\n",
       "         [104, 129, 176]],\n",
       " \n",
       "        [[134, 172, 202],\n",
       "         [134, 172, 202],\n",
       "         [134, 168, 198],\n",
       "         ...,\n",
       "         [ 73,  95, 136],\n",
       "         [ 87, 112, 154],\n",
       "         [102, 129, 173]],\n",
       " \n",
       "        ...,\n",
       " \n",
       "        [[ 36,  47,  59],\n",
       "         [ 74,  78,  89],\n",
       "         [139, 138, 148],\n",
       "         ...,\n",
       "         [191, 148,  96],\n",
       "         [171, 127,  80],\n",
       "         [167, 121,  79]],\n",
       " \n",
       "        [[ 38,  49,  61],\n",
       "         [ 90,  94, 105],\n",
       "         [142, 141, 151],\n",
       "         ...,\n",
       "         [176, 138,  98],\n",
       "         [203, 167, 119],\n",
       "         [196, 161, 113]],\n",
       " \n",
       "        [[ 48,  51,  68],\n",
       "         [113, 115, 123],\n",
       "         [146, 146, 150],\n",
       "         ...,\n",
       "         [169, 140, 113],\n",
       "         [188, 160, 130],\n",
       "         [207, 180, 147]]], dtype=uint8),\n",
       " 0]"
      ]
     },
     "execution_count": 13,
     "metadata": {},
     "output_type": "execute_result"
    }
   ],
   "source": [
    "data[1500]"
   ]
  },
  {
   "cell_type": "code",
   "execution_count": 6,
   "metadata": {},
   "outputs": [],
   "source": [
    "#Data_Shuffle bcoz first cat will be passed and then dog will be passed according to the code above so we have to shuffle.\n",
    "random.shuffle(data)"
   ]
  },
  {
   "cell_type": "code",
   "execution_count": 18,
   "metadata": {},
   "outputs": [],
   "source": [
    "#Assigning data to features x and y\n",
    "X,Y=[],[]\n",
    "for features,labels in data:\n",
    "    X.append(features)\n",
    "    Y.append(labels)"
   ]
  },
  {
   "cell_type": "code",
   "execution_count": 24,
   "metadata": {},
   "outputs": [],
   "source": [
    "#Converting to array for easy computation\n",
    "X=np.array(X)\n",
    "Y=np.array(Y)"
   ]
  },
  {
   "cell_type": "code",
   "execution_count": 25,
   "metadata": {},
   "outputs": [],
   "source": [
    "#Using this to save variables to our Pc\n",
    "pickle.dump(X, open('X.pkl', 'wb'))\n",
    "pickle.dump(Y, open('Y.pkl', 'wb'))"
   ]
  },
  {
   "cell_type": "code",
   "execution_count": null,
   "metadata": {},
   "outputs": [],
   "source": []
  }
 ],
 "metadata": {
  "interpreter": {
   "hash": "c972d71c9d4593f836b9e422df0937f72403854ab64961210e2310a5da75711e"
  },
  "kernelspec": {
   "display_name": "Python 3.9.10 64-bit (windows store)",
   "language": "python",
   "name": "python3"
  },
  "language_info": {
   "codemirror_mode": {
    "name": "ipython",
    "version": 3
   },
   "file_extension": ".py",
   "mimetype": "text/x-python",
   "name": "python",
   "nbconvert_exporter": "python",
   "pygments_lexer": "ipython3",
   "version": "3.9.6"
  },
  "orig_nbformat": 4
 },
 "nbformat": 4,
 "nbformat_minor": 2
}
