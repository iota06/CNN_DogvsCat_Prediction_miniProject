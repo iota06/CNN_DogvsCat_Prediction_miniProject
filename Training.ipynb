{
 "cells": [
  {
   "cell_type": "code",
   "execution_count": 22,
   "metadata": {},
   "outputs": [],
   "source": [
    "#Importing pickle variable files\n",
    "import pickle\n",
    "import time"
   ]
  },
  {
   "cell_type": "code",
   "execution_count": 23,
   "metadata": {},
   "outputs": [],
   "source": [
    "X=pickle.load(open('X.pkl', 'rb'))\n",
    "Y=pickle.load(open('Y.pkl', 'rb'))"
   ]
  },
  {
   "cell_type": "code",
   "execution_count": 24,
   "metadata": {},
   "outputs": [],
   "source": [
    "#Feature Scaling\n",
    "#This values are pixel values from 0 to 255 for all the three rgb channels\n",
    "X=X/255"
   ]
  },
  {
   "cell_type": "code",
   "execution_count": 25,
   "metadata": {},
   "outputs": [
    {
     "data": {
      "text/plain": [
       "(23000, 100, 100, 3)"
      ]
     },
     "execution_count": 25,
     "metadata": {},
     "output_type": "execute_result"
    }
   ],
   "source": [
    "X.shape"
   ]
  },
  {
   "cell_type": "code",
   "execution_count": 26,
   "metadata": {},
   "outputs": [],
   "source": [
    "#Importing keras\n",
    "from keras.models import Sequential\n",
    "from keras.layers import Conv2D,MaxPooling2D,Flatten,Dense\n",
    "from keras.callbacks import TensorBoard"
   ]
  },
  {
   "cell_type": "code",
   "execution_count": 27,
   "metadata": {},
   "outputs": [],
   "source": [
    "#Tensorboard\n",
    "name=f'cat-vs-dog-prediction-{int(time.time())}'\n",
    "tensorboard=TensorBoard(log_dir=f'C:\\Study\\Machine Learning\\Mini Projects\\Image_classification_Cat&Dog_NN\\Codes\\logs\\\\{name}\\\\')"
   ]
  },
  {
   "cell_type": "markdown",
   "metadata": {},
   "source": [
    "Creating Model\n"
   ]
  },
  {
   "cell_type": "code",
   "execution_count": 28,
   "metadata": {},
   "outputs": [],
   "source": [
    "#2 Convnet\n",
    "model=Sequential() \n",
    "#1st Convolution Layer\n",
    "model.add(Conv2D(64,(3,3),activation='relu')) #Convolution 64 layers of 3x3 pixels\n",
    "model.add(MaxPooling2D((2,2))) #Max Pooling\n",
    "#2nd Convolution Layer\n",
    "model.add(Conv2D(64,(3,3),activation='relu')) #Convolution 64 layers of 3x3 pixels\n",
    "model.add(MaxPooling2D((2,2))) #Max Pooling\n",
    "#Flattenning\n",
    "model.add(Flatten())\n",
    "#Input layer to nn\n",
    "model.add(Dense(128, input_shape=X.shape[1:],activation='relu')) #128 hidden layers and input size of 100,100,3\n",
    "#Output layer\n",
    "model.add(Dense(2,activation='softmax'))\n"
   ]
  },
  {
   "cell_type": "code",
   "execution_count": 29,
   "metadata": {},
   "outputs": [],
   "source": [
    "model.compile(optimizer='adam',loss='sparse_categorical_crossentropy',metrics=['accuracy'])"
   ]
  },
  {
   "cell_type": "code",
   "execution_count": 31,
   "metadata": {},
   "outputs": [
    {
     "name": "stdout",
     "output_type": "stream",
     "text": [
      "Epoch 1/5\n",
      "647/647 [==============================] - 159s 245ms/step - loss: 0.5746 - accuracy: 0.7042 - val_loss: 0.5557 - val_accuracy: 0.7204\n",
      "Epoch 2/5\n",
      "647/647 [==============================] - 165s 255ms/step - loss: 0.4843 - accuracy: 0.7656 - val_loss: 0.4700 - val_accuracy: 0.7757\n",
      "Epoch 3/5\n",
      "647/647 [==============================] - 150s 232ms/step - loss: 0.3958 - accuracy: 0.8178 - val_loss: 0.4812 - val_accuracy: 0.7800\n",
      "Epoch 4/5\n",
      "647/647 [==============================] - 147s 227ms/step - loss: 0.2693 - accuracy: 0.8866 - val_loss: 0.5862 - val_accuracy: 0.7683\n",
      "Epoch 5/5\n",
      "647/647 [==============================] - 148s 228ms/step - loss: 0.1354 - accuracy: 0.9477 - val_loss: 0.7372 - val_accuracy: 0.7587\n"
     ]
    },
    {
     "data": {
      "text/plain": [
       "<keras.callbacks.History at 0x18f753c3eb0>"
      ]
     },
     "execution_count": 31,
     "metadata": {},
     "output_type": "execute_result"
    }
   ],
   "source": [
    "#model fitting using 0.1 for validation\n",
    "model.fit(X,Y,epochs=5,validation_split=0.1,callbacks=[tensorboard])"
   ]
  },
  {
   "cell_type": "code",
   "execution_count": 34,
   "metadata": {},
   "outputs": [],
   "source": [
    "#3 Convnet\n",
    "model2=Sequential()\n",
    "#1st Convolution Layer\n",
    "model2.add(Conv2D(64,(3,3),activation='relu')) #Convolution 64 layers of 3x3 pixels\n",
    "model2.add(MaxPooling2D((2,2))) #Max Pooling\n",
    "#2nd Convolution Layer\n",
    "model2.add(Conv2D(64,(3,3),activation='relu')) #Convolution 64 layers of 3x3 pixels\n",
    "model2.add(MaxPooling2D((2,2))) #Max Pooling\n",
    "#3rd Convolution Layer\n",
    "model2.add(Conv2D(64,(3,3),activation='relu')) #Convolution 64 layers of 3x3 pixels\n",
    "model2.add(MaxPooling2D((2,2))) #Max Pooling\n",
    "#Flattenning\n",
    "model2.add(Flatten())\n",
    "#Input layer to nn\n",
    "model2.add(Dense(128, input_shape=X.shape[1:],activation='relu')) #128 hidden layers and input size of 100,100,3\n",
    "#Output layer\n",
    "model2.add(Dense(2,activation='softmax'))"
   ]
  },
  {
   "cell_type": "code",
   "execution_count": 36,
   "metadata": {},
   "outputs": [
    {
     "name": "stdout",
     "output_type": "stream",
     "text": [
      "Epoch 1/5\n",
      "647/647 [==============================] - 153s 236ms/step - loss: 0.6163 - accuracy: 0.6462 - val_loss: 0.5600 - val_accuracy: 0.7083\n",
      "Epoch 2/5\n",
      "647/647 [==============================] - 159s 246ms/step - loss: 0.4946 - accuracy: 0.7640 - val_loss: 0.4691 - val_accuracy: 0.7778\n",
      "Epoch 3/5\n",
      "647/647 [==============================] - 164s 253ms/step - loss: 0.4301 - accuracy: 0.8014 - val_loss: 0.3790 - val_accuracy: 0.8274\n",
      "Epoch 4/5\n",
      "647/647 [==============================] - 155s 240ms/step - loss: 0.3656 - accuracy: 0.8394 - val_loss: 0.3947 - val_accuracy: 0.8191\n",
      "Epoch 5/5\n",
      "647/647 [==============================] - 163s 253ms/step - loss: 0.3214 - accuracy: 0.8615 - val_loss: 0.3484 - val_accuracy: 0.8574\n"
     ]
    },
    {
     "data": {
      "text/plain": [
       "<keras.callbacks.History at 0x18f754a4dc0>"
      ]
     },
     "execution_count": 36,
     "metadata": {},
     "output_type": "execute_result"
    }
   ],
   "source": [
    "model2.compile(optimizer='adam',loss='sparse_categorical_crossentropy',metrics=['accuracy'])\n",
    "model2.fit(X,Y,epochs=5,validation_split=0.1,callbacks=[tensorboard])"
   ]
  },
  {
   "cell_type": "code",
   "execution_count": 38,
   "metadata": {},
   "outputs": [
    {
     "name": "stderr",
     "output_type": "stream",
     "text": [
      "UsageError: Line magic function `%tensorboard` not found.\n"
     ]
    }
   ],
   "source": [
    "%tensorboard"
   ]
  },
  {
   "cell_type": "code",
   "execution_count": null,
   "metadata": {},
   "outputs": [],
   "source": []
  }
 ],
 "metadata": {
  "interpreter": {
   "hash": "06cb67651ce969e244f20f184e33f4ddb1106793adfe07cf7ddc131c95c4012f"
  },
  "kernelspec": {
   "display_name": "Python 3.9.6 64-bit",
   "language": "python",
   "name": "python3"
  },
  "language_info": {
   "codemirror_mode": {
    "name": "ipython",
    "version": 3
   },
   "file_extension": ".py",
   "mimetype": "text/x-python",
   "name": "python",
   "nbconvert_exporter": "python",
   "pygments_lexer": "ipython3",
   "version": "3.9.6"
  },
  "orig_nbformat": 4
 },
 "nbformat": 4,
 "nbformat_minor": 2
}
