{
 "cells": [
  {
   "cell_type": "code",
   "execution_count": 20,
   "metadata": {},
   "outputs": [],
   "source": [
    "#Importing pickle variable files\n",
    "import pickle"
   ]
  },
  {
   "cell_type": "code",
   "execution_count": 21,
   "metadata": {},
   "outputs": [],
   "source": [
    "X=pickle.load(open('X.pkl', 'rb'))\n",
    "Y=pickle.load(open('Y.pkl', 'rb'))"
   ]
  },
  {
   "cell_type": "code",
   "execution_count": 22,
   "metadata": {},
   "outputs": [],
   "source": [
    "#Feature Scaling\n",
    "#This values are pixel values from 0 to 255 for all the three rgb channels\n",
    "X=X/255"
   ]
  },
  {
   "cell_type": "code",
   "execution_count": 23,
   "metadata": {},
   "outputs": [
    {
     "data": {
      "text/plain": [
       "(23000, 100, 100, 3)"
      ]
     },
     "execution_count": 23,
     "metadata": {},
     "output_type": "execute_result"
    }
   ],
   "source": [
    "X.shape"
   ]
  },
  {
   "cell_type": "code",
   "execution_count": 28,
   "metadata": {},
   "outputs": [],
   "source": [
    "#Importing keras\n",
    "from keras.models import Sequential\n",
    "from keras.layers import Conv2D,MaxPooling2D,Flatten,Dense"
   ]
  },
  {
   "cell_type": "markdown",
   "metadata": {},
   "source": [
    "Creating Model\n"
   ]
  },
  {
   "cell_type": "code",
   "execution_count": 29,
   "metadata": {},
   "outputs": [],
   "source": [
    "model=Sequential()\n",
    "#1st Convolution Layer\n",
    "model.add(Conv2D(64,(3,3),activation='relu')) #Convolution 64 layers of 3x3 pixels\n",
    "model.add(MaxPooling2D((2,2))) #Max Pooling\n",
    "#2nd Convolution Layer\n",
    "model.add(Conv2D(64,(3,3),activation='relu')) #Convolution 64 layers of 3x3 pixels\n",
    "model.add(MaxPooling2D((2,2))) #Max Pooling\n",
    "#Flattenning\n",
    "model.add(Flatten())\n",
    "#Input layer to nn\n",
    "model.add(Dense(128, input_shape=X.shape[1:],activation='relu')) #128 hidden layers and input size of 100,100,3\n",
    "#Output layer\n",
    "model.add(Dense(2,activation='softmax'))\n"
   ]
  },
  {
   "cell_type": "code",
   "execution_count": 30,
   "metadata": {},
   "outputs": [],
   "source": [
    "model.compile(optimizer='adam',loss='sparse_categorical_crossentropy',metrics=['accuracy'])"
   ]
  },
  {
   "cell_type": "code",
   "execution_count": 31,
   "metadata": {},
   "outputs": [
    {
     "name": "stdout",
     "output_type": "stream",
     "text": [
      "Epoch 1/5\n",
      "647/647 [==============================] - 149s 229ms/step - loss: 0.6501 - accuracy: 0.6193 - val_loss: 0.6039 - val_accuracy: 0.6817\n",
      "Epoch 2/5\n",
      "647/647 [==============================] - 154s 238ms/step - loss: 0.5284 - accuracy: 0.7372 - val_loss: 0.4877 - val_accuracy: 0.7617\n",
      "Epoch 3/5\n",
      "647/647 [==============================] - 137s 211ms/step - loss: 0.4371 - accuracy: 0.7962 - val_loss: 0.4818 - val_accuracy: 0.7639\n",
      "Epoch 4/5\n",
      "647/647 [==============================] - 126s 195ms/step - loss: 0.3171 - accuracy: 0.8624 - val_loss: 0.5135 - val_accuracy: 0.7830\n",
      "Epoch 5/5\n",
      "647/647 [==============================] - 144s 223ms/step - loss: 0.1661 - accuracy: 0.9367 - val_loss: 0.6356 - val_accuracy: 0.7791\n"
     ]
    },
    {
     "data": {
      "text/plain": [
       "<keras.callbacks.History at 0x1f74ce529d0>"
      ]
     },
     "execution_count": 31,
     "metadata": {},
     "output_type": "execute_result"
    }
   ],
   "source": [
    "#model fitting using 0.1 for validation\n",
    "model.fit(X,Y,epochs=5,validation_split=0.1)"
   ]
  }
 ],
 "metadata": {
  "interpreter": {
   "hash": "06cb67651ce969e244f20f184e33f4ddb1106793adfe07cf7ddc131c95c4012f"
  },
  "kernelspec": {
   "display_name": "Python 3.9.6 64-bit",
   "language": "python",
   "name": "python3"
  },
  "language_info": {
   "codemirror_mode": {
    "name": "ipython",
    "version": 3
   },
   "file_extension": ".py",
   "mimetype": "text/x-python",
   "name": "python",
   "nbconvert_exporter": "python",
   "pygments_lexer": "ipython3",
   "version": "3.9.6"
  },
  "orig_nbformat": 4
 },
 "nbformat": 4,
 "nbformat_minor": 2
}
